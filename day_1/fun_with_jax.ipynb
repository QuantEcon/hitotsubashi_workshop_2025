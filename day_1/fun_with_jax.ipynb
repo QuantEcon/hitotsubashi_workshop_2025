{
 "cells": [
  {
   "cell_type": "markdown",
   "id": "ef2bfe21",
   "metadata": {},
   "source": [
    "# Fun with JAX\n",
    "\n",
    "*Prepared for the Computational Economics Workshop at Hitotsubashi*\n",
    "\n",
    "#### [John Stachurski](https://johnstachurski.net/)\n",
    "September 2025\n",
    "\n",
    "This is a super quick illustration of the power of [JAX](https://github.com/google/jax), a Python library built by Google Research.\n",
    "\n",
    "It should be run on a machine with a GPU --- for example, try Google Colab with the runtime environment set to include a GPU.\n",
    "\n",
    "The aim is just to give a small taste of high performance computing in Python -- details will be covered later in the course."
   ]
  },
  {
   "cell_type": "markdown",
   "id": "7014da3a",
   "metadata": {},
   "source": [
    "We start with some imports"
   ]
  },
  {
   "cell_type": "code",
   "execution_count": null,
   "id": "e746d990",
   "metadata": {},
   "outputs": [],
   "source": [
    "import numpy as np\n",
    "import jax\n",
    "import jax.numpy as jnp\n",
    "import matplotlib.pyplot as plt"
   ]
  },
  {
   "cell_type": "markdown",
   "id": "49922f99",
   "metadata": {},
   "source": [
    "Let's check our hardware:"
   ]
  },
  {
   "cell_type": "code",
   "execution_count": null,
   "id": "9869d7b3",
   "metadata": {},
   "outputs": [],
   "source": [
    "!nvidia-smi"
   ]
  },
  {
   "cell_type": "code",
   "execution_count": null,
   "id": "f02fd272",
   "metadata": {},
   "outputs": [],
   "source": [
    "!lscpu -e"
   ]
  },
  {
   "cell_type": "markdown",
   "id": "b8a1415b",
   "metadata": {},
   "source": [
    "## Transforming Data"
   ]
  },
  {
   "cell_type": "markdown",
   "id": "a0f2d22f",
   "metadata": {},
   "source": [
    "A very common numerical task is to apply a transformation to a set of data points.\n",
    "\n",
    "Our transformation will be the cosine function."
   ]
  },
  {
   "cell_type": "markdown",
   "id": "437f742d",
   "metadata": {},
   "source": [
    "Here we evaluate the cosine function at 50 points."
   ]
  },
  {
   "cell_type": "code",
   "execution_count": null,
   "id": "2e7332c1",
   "metadata": {},
   "outputs": [],
   "source": [
    "x = np.linspace(0, 10, 50)\n",
    "y = np.cos(x)"
   ]
  },
  {
   "cell_type": "markdown",
   "id": "a16f7399",
   "metadata": {},
   "source": [
    "Let's plot."
   ]
  },
  {
   "cell_type": "code",
   "execution_count": null,
   "id": "1d516130",
   "metadata": {},
   "outputs": [],
   "source": [
    "fig, ax = plt.subplots()\n",
    "ax.scatter(x, y)\n",
    "plt.show()"
   ]
  },
  {
   "cell_type": "markdown",
   "id": "58a6135f",
   "metadata": {},
   "source": [
    "Our aim is to evaluate the cosine function at many points."
   ]
  },
  {
   "cell_type": "code",
   "execution_count": null,
   "id": "39a8b857",
   "metadata": {},
   "outputs": [],
   "source": [
    "n = 50_000_000\n",
    "x = np.linspace(0, 10, n)"
   ]
  },
  {
   "cell_type": "markdown",
   "id": "8d4b6bf0",
   "metadata": {},
   "source": [
    "### With NumPy"
   ]
  },
  {
   "cell_type": "code",
   "execution_count": null,
   "id": "3ad3e5da",
   "metadata": {},
   "outputs": [],
   "source": [
    "%time np.cos(x)"
   ]
  },
  {
   "cell_type": "code",
   "execution_count": null,
   "id": "9de0ec4e",
   "metadata": {},
   "outputs": [],
   "source": [
    "%time np.cos(x)"
   ]
  },
  {
   "cell_type": "code",
   "execution_count": null,
   "id": "51968af3",
   "metadata": {},
   "outputs": [],
   "source": [
    "x = None  "
   ]
  },
  {
   "cell_type": "markdown",
   "id": "c66d92dc",
   "metadata": {},
   "source": [
    "### With JAX"
   ]
  },
  {
   "cell_type": "code",
   "execution_count": null,
   "id": "ff6ac65a",
   "metadata": {},
   "outputs": [],
   "source": [
    "x_jax = jnp.linspace(0, 10, n)"
   ]
  },
  {
   "cell_type": "code",
   "execution_count": null,
   "id": "d70483c7",
   "metadata": {},
   "outputs": [],
   "source": [
    "jnp.cos(x_jax)"
   ]
  },
  {
   "cell_type": "markdown",
   "id": "b81afce6",
   "metadata": {},
   "source": [
    "Let's time it.\n",
    "\n",
    "(The `block_until_ready()` method is only needed for timing.)"
   ]
  },
  {
   "cell_type": "code",
   "execution_count": null,
   "id": "3486f116",
   "metadata": {},
   "outputs": [],
   "source": [
    "%time jnp.cos(x_jax).block_until_ready()"
   ]
  },
  {
   "cell_type": "code",
   "execution_count": null,
   "id": "23656528",
   "metadata": {},
   "outputs": [],
   "source": [
    "%time jnp.cos(x_jax).block_until_ready()"
   ]
  },
  {
   "cell_type": "markdown",
   "id": "28de3bdf",
   "metadata": {},
   "source": [
    "Here we change the input size --- can you explain why the timing changes?"
   ]
  },
  {
   "cell_type": "code",
   "execution_count": null,
   "id": "9afd639b",
   "metadata": {},
   "outputs": [],
   "source": [
    "x_jax = jnp.linspace(0, 10, n + 1)"
   ]
  },
  {
   "cell_type": "code",
   "execution_count": null,
   "id": "650e293f",
   "metadata": {},
   "outputs": [],
   "source": [
    "%time jnp.cos(x_jax).block_until_ready()"
   ]
  },
  {
   "cell_type": "code",
   "execution_count": null,
   "id": "22af02fa",
   "metadata": {},
   "outputs": [],
   "source": [
    "%time jnp.cos(x_jax).block_until_ready()"
   ]
  },
  {
   "cell_type": "code",
   "execution_count": null,
   "id": "8bbcc297",
   "metadata": {},
   "outputs": [],
   "source": [
    "x_jax = None  # Free memory"
   ]
  },
  {
   "cell_type": "markdown",
   "id": "4ed547bf",
   "metadata": {},
   "source": [
    "## Evaluating a more complicated function"
   ]
  },
  {
   "cell_type": "code",
   "execution_count": null,
   "id": "688f0de5",
   "metadata": {},
   "outputs": [],
   "source": [
    "def f(x):\n",
    "    y = np.cos(2 * x**2) + np.sqrt(np.abs(x)) + 2 * np.sin(x**4) - 0.1 * x**2\n",
    "    return y"
   ]
  },
  {
   "cell_type": "code",
   "execution_count": null,
   "id": "9752f556",
   "metadata": {},
   "outputs": [],
   "source": [
    "fig, ax = plt.subplots()\n",
    "x = np.linspace(0, 10, 100)\n",
    "ax.plot(x, f(x))\n",
    "ax.scatter(x, f(x))\n",
    "plt.show()"
   ]
  },
  {
   "cell_type": "markdown",
   "id": "b695c493",
   "metadata": {},
   "source": [
    "Now let's try with a large array."
   ]
  },
  {
   "cell_type": "markdown",
   "id": "a8b4bcd1",
   "metadata": {},
   "source": [
    "### With NumPy"
   ]
  },
  {
   "cell_type": "code",
   "execution_count": null,
   "id": "d079c448",
   "metadata": {},
   "outputs": [],
   "source": [
    "n = 50_000_000\n",
    "x = np.linspace(0, 10, n)"
   ]
  },
  {
   "cell_type": "code",
   "execution_count": null,
   "id": "fb2f3e2b",
   "metadata": {},
   "outputs": [],
   "source": [
    "%time f(x)"
   ]
  },
  {
   "cell_type": "code",
   "execution_count": null,
   "id": "6a30bb8d",
   "metadata": {},
   "outputs": [],
   "source": [
    "%time f(x)"
   ]
  },
  {
   "cell_type": "markdown",
   "id": "748f78a4",
   "metadata": {},
   "source": [
    "### With JAX"
   ]
  },
  {
   "cell_type": "code",
   "execution_count": null,
   "id": "44aed4d9",
   "metadata": {},
   "outputs": [],
   "source": [
    "def f(x):\n",
    "    y = jnp.cos(2 * x**2) + jnp.sqrt(jnp.abs(x)) + 2 * jnp.sin(x**4) - x**2\n",
    "    return y"
   ]
  },
  {
   "cell_type": "code",
   "execution_count": null,
   "id": "9921e67b",
   "metadata": {},
   "outputs": [],
   "source": [
    "x_jax = jnp.linspace(0, 10, n)"
   ]
  },
  {
   "cell_type": "code",
   "execution_count": null,
   "id": "16a0c5ea",
   "metadata": {},
   "outputs": [],
   "source": [
    "%time f(x_jax).block_until_ready()"
   ]
  },
  {
   "cell_type": "code",
   "execution_count": null,
   "id": "bb2a9ced",
   "metadata": {},
   "outputs": [],
   "source": [
    "%time f(x_jax).block_until_ready()"
   ]
  },
  {
   "cell_type": "markdown",
   "id": "b358f350",
   "metadata": {},
   "source": [
    "### Compiling the Whole Function"
   ]
  },
  {
   "cell_type": "code",
   "execution_count": null,
   "id": "deb85dd9",
   "metadata": {},
   "outputs": [],
   "source": [
    "f_jax = jax.jit(f)"
   ]
  },
  {
   "cell_type": "code",
   "execution_count": null,
   "id": "e54687da",
   "metadata": {},
   "outputs": [],
   "source": [
    "%time f_jax(x_jax).block_until_ready()"
   ]
  },
  {
   "cell_type": "code",
   "execution_count": null,
   "id": "9e2fa00e",
   "metadata": {},
   "outputs": [],
   "source": [
    "%time f_jax(x_jax).block_until_ready()"
   ]
  }
 ],
 "metadata": {
  "kernelspec": {
   "display_name": "Python 3 (ipykernel)",
   "language": "python",
   "name": "python3"
  }
 },
 "nbformat": 4,
 "nbformat_minor": 5
}
