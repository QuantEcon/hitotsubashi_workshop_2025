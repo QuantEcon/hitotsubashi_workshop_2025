{
 "cells": [
  {
   "cell_type": "markdown",
   "id": "42390238",
   "metadata": {},
   "source": [
    "# Adventures with Autodiff\n",
    "\n",
    "*Prepared for the Computational Economics Workshop at Hitotsubashi*\n",
    "\n",
    "Author: [John Stachurski](https://johnstachurski.net)"
   ]
  },
  {
   "cell_type": "markdown",
   "id": "d8e26beb",
   "metadata": {},
   "source": [
    "## Overview\n",
    "\n",
    "This lecture gives a brief introduction to automatic differentiation using\n",
    "Google JAX.\n",
    "\n",
    "Automatic differentiation is one of the key elements of modern machine learning\n",
    "and artificial intelligence.\n",
    "\n",
    "As such it has attracted a great deal of investment and there are several\n",
    "powerful implementations available.\n",
    "\n",
    "One of the best of these is the automatic differentiation routines contained\n",
    "in JAX.\n",
    "\n",
    "While other software packages also offer this feature, the JAX version is\n",
    "particularly powerful because it integrates so well with other core\n",
    "components of JAX (e.g., JIT compilation and parallelization).\n",
    "\n",
    "As we will see in later lectures, automatic differentiation can be used not only\n",
    "for AI but also for many problems faced in mathematical modeling, such as\n",
    "multi-dimensional nonlinear optimization and root-finding problems.\n",
    "\n",
    "We need the following imports"
   ]
  },
  {
   "cell_type": "code",
   "execution_count": null,
   "id": "5c750751",
   "metadata": {
    "hide-output": false
   },
   "outputs": [],
   "source": [
    "import jax\n",
    "from jax import vmap, grad\n",
    "import jax.numpy as jnp\n",
    "import matplotlib.pyplot as plt\n",
    "import numpy as np"
   ]
  },
  {
   "cell_type": "markdown",
   "id": "86069926",
   "metadata": {},
   "source": [
    "## What is automatic differentiation?\n",
    "\n",
    "Autodiff is a technique for calculating derivatives on a computer."
   ]
  },
  {
   "cell_type": "markdown",
   "id": "b7db2153",
   "metadata": {},
   "source": [
    "### Autodiff is not finite differences\n",
    "\n",
    "The derivative of $ f(x) = \\exp(2x) $ is\n",
    "\n",
    "$$\n",
    "f'(x) = 2 \\exp(2x)\n",
    "$$\n",
    "\n",
    "A computer that doesn’t know how to take derivatives might approximate this with the finite difference ratio\n",
    "\n",
    "$$\n",
    "(Df)(x) := \\frac{f(x+h) - f(x)}{h}\n",
    "$$\n",
    "\n",
    "where $ h $ is a small positive number."
   ]
  },
  {
   "cell_type": "code",
   "execution_count": null,
   "id": "d7f755cb",
   "metadata": {
    "hide-output": false
   },
   "outputs": [],
   "source": [
    "def f(x):\n",
    "    \"Original function.\"\n",
    "    return np.exp(2 * x)\n",
    "\n",
    "def f_prime(x):\n",
    "    \"True derivative.\"\n",
    "    return 2 * np.exp(2 * x)\n",
    "\n",
    "def Df(x, h=0.01):\n",
    "    \"Approximate derivative (finite difference).\"\n",
    "    return (f(x + h) - f(x))/h\n",
    "\n",
    "x_grid = np.linspace(-2, 1, 200)\n",
    "fig, ax = plt.subplots()\n",
    "ax.plot(x_grid, f_prime(x_grid), label=\"$f'$\")\n",
    "ax.plot(x_grid, Df(x_grid), label=\"$Df$\")\n",
    "ax.legend()\n",
    "plt.show()"
   ]
  },
  {
   "cell_type": "markdown",
   "id": "8271c8a1",
   "metadata": {},
   "source": [
    "This kind of numerical derivative is often inaccurate and unstable.\n",
    "\n",
    "One reason is that\n",
    "\n",
    "$$\n",
    "\\frac{f(x+h) - f(x)}{h} \\approx \\frac{0}{0}\n",
    "$$\n",
    "\n",
    "Small numbers in the numerator and denominator causes rounding errors.\n",
    "\n",
    "The situation is exponentially worse in high dimensions / with higher order derivatives"
   ]
  },
  {
   "cell_type": "markdown",
   "id": "6ea81e35",
   "metadata": {},
   "source": [
    "### Autodiff is not symbolic calculus\n",
    "\n",
    "Symbolic calculus tries to use rules for differentiation to produce a single\n",
    "closed-form expression representing a derivative."
   ]
  },
  {
   "cell_type": "code",
   "execution_count": null,
   "id": "ea1af353",
   "metadata": {
    "hide-output": false
   },
   "outputs": [],
   "source": [
    "from sympy import symbols, diff\n",
    "\n",
    "m, a, b, x = symbols('m a b x')\n",
    "f_x = (a*x + b)**m\n",
    "f_x.diff((x, 6))  # 6-th order derivative"
   ]
  },
  {
   "cell_type": "markdown",
   "id": "d93ee6d4",
   "metadata": {},
   "source": [
    "Symbolic calculus is not well suited to high performance\n",
    "computing.\n",
    "\n",
    "One disadvantage is that symbolic calculus cannot differentiate through control flow.\n",
    "\n",
    "Also, using symbolic calculus might involve redundant calculations.\n",
    "\n",
    "For example, consider\n",
    "\n",
    "$$\n",
    "(f g h)'\n",
    "    = (f' g + g' f) h + (f g) h'\n",
    "$$\n",
    "\n",
    "If we evaluate at $ x $, then we evalute $ f(x) $ and $ g(x) $ twice each.\n",
    "\n",
    "Also, computing $ f'(x) $ and $ f(x) $ might involve similar terms (e.g., $ (f(x) = \\exp(2x)' \\implies f'(x) = 2f(x) $) but this is not exploited in symbolic algebra."
   ]
  },
  {
   "cell_type": "markdown",
   "id": "08280e97",
   "metadata": {},
   "source": [
    "### Autodiff\n",
    "\n",
    "Autodiff produces functions that evaluates derivatives at numerical values\n",
    "passed in by the calling code, rather than producing a single symbolic\n",
    "expression representing the entire derivative.\n",
    "\n",
    "Derivatives are constructed by breaking calculations into component parts via the chain rule.\n",
    "\n",
    "The chain rule is applied until the point where the terms reduce to primitive functions that the program knows how to differentiate exactly (addition, subtraction, exponentiation, sine and cosine, etc.)"
   ]
  },
  {
   "cell_type": "markdown",
   "id": "d0d134a3",
   "metadata": {},
   "source": [
    "## Some experiments\n",
    "\n",
    "Let’s start with some real-valued functions on $ \\mathbb R $."
   ]
  },
  {
   "cell_type": "markdown",
   "id": "b2ac7275",
   "metadata": {},
   "source": [
    "### A differentiable function\n",
    "\n",
    "Let’s test JAX’s auto diff with a relatively simple function."
   ]
  },
  {
   "cell_type": "code",
   "execution_count": null,
   "id": "1c5c75ef",
   "metadata": {
    "hide-output": false
   },
   "outputs": [],
   "source": [
    "def f(x):\n",
    "    return jnp.sin(x) - 2 * jnp.cos(3 * x) * jnp.exp(- x**2)"
   ]
  },
  {
   "cell_type": "markdown",
   "id": "dd565991",
   "metadata": {},
   "source": [
    "We use `grad` to compute the gradient of a real-valued function:"
   ]
  },
  {
   "cell_type": "code",
   "execution_count": null,
   "id": "c1b1892b",
   "metadata": {
    "hide-output": false
   },
   "outputs": [],
   "source": [
    "f_prime = grad(f)"
   ]
  },
  {
   "cell_type": "markdown",
   "id": "262b5f80",
   "metadata": {},
   "source": [
    "Let’s plot the result:"
   ]
  },
  {
   "cell_type": "code",
   "execution_count": null,
   "id": "554989b2",
   "metadata": {
    "hide-output": false
   },
   "outputs": [],
   "source": [
    "x_grid = jnp.linspace(-5, 5, 100)"
   ]
  },
  {
   "cell_type": "code",
   "execution_count": null,
   "id": "928bdeed",
   "metadata": {
    "hide-output": false
   },
   "outputs": [],
   "source": [
    "fig, ax = plt.subplots()\n",
    "ax.plot(x_grid, [f(x) for x in x_grid], label=\"$f$\")\n",
    "ax.plot(x_grid, vmap(f_prime)(x_grid), label=\"$f'$\")\n",
    "ax.legend()\n",
    "plt.show()"
   ]
  },
  {
   "cell_type": "markdown",
   "id": "6242f45a",
   "metadata": {},
   "source": [
    "### Absolute value function\n",
    "\n",
    "What happens if the function is not differentiable?"
   ]
  },
  {
   "cell_type": "code",
   "execution_count": null,
   "id": "b87e8b1a",
   "metadata": {
    "hide-output": false
   },
   "outputs": [],
   "source": [
    "def f(x):\n",
    "    return jnp.abs(x)"
   ]
  },
  {
   "cell_type": "code",
   "execution_count": null,
   "id": "8b7fa256",
   "metadata": {
    "hide-output": false
   },
   "outputs": [],
   "source": [
    "f_prime = jax.grad(f)"
   ]
  },
  {
   "cell_type": "code",
   "execution_count": null,
   "id": "de13865b",
   "metadata": {
    "hide-output": false
   },
   "outputs": [],
   "source": [
    "fig, ax = plt.subplots()\n",
    "ax.plot(x_grid, [f(x) for x in x_grid], label=\"$f$\")\n",
    "ax.plot(x_grid, vmap(f_prime)(x_grid), label=\"$f'$\")\n",
    "ax.legend()\n",
    "plt.show()"
   ]
  },
  {
   "cell_type": "markdown",
   "id": "11e9f7df",
   "metadata": {},
   "source": [
    "At the nondifferentiable point $ 0 $, `jax.grad` returns the right derivative:"
   ]
  },
  {
   "cell_type": "code",
   "execution_count": null,
   "id": "eb4beb69",
   "metadata": {
    "hide-output": false
   },
   "outputs": [],
   "source": [
    "f_prime(0.0)"
   ]
  },
  {
   "cell_type": "markdown",
   "id": "6a3c0eb6",
   "metadata": {},
   "source": [
    "### Differentiating through control flow\n",
    "\n",
    "Let’s try differentiating through some loops and conditions."
   ]
  },
  {
   "cell_type": "code",
   "execution_count": null,
   "id": "32e7583e",
   "metadata": {
    "hide-output": false
   },
   "outputs": [],
   "source": [
    "def f(x):\n",
    "    def f1(x):\n",
    "        for i in range(2):\n",
    "            x *= 0.2 * x\n",
    "        return x\n",
    "    def f2(x):\n",
    "        x = sum((x**i + i) for i in range(3))\n",
    "        return x\n",
    "    y = jnp.where(x < 0, f1(x), f2(x))\n",
    "    return y"
   ]
  },
  {
   "cell_type": "code",
   "execution_count": null,
   "id": "a65462b8",
   "metadata": {
    "hide-output": false
   },
   "outputs": [],
   "source": [
    "f_prime = grad(f)"
   ]
  },
  {
   "cell_type": "code",
   "execution_count": null,
   "id": "7c0fd6d0",
   "metadata": {
    "hide-output": false
   },
   "outputs": [],
   "source": [
    "x_grid = jnp.linspace(-5, 5, 1000)"
   ]
  },
  {
   "cell_type": "code",
   "execution_count": null,
   "id": "64d983d3",
   "metadata": {
    "hide-output": false
   },
   "outputs": [],
   "source": [
    "fig, ax = plt.subplots()\n",
    "ax.plot(x_grid, [f(x) for x in x_grid], label=\"$f$\")\n",
    "ax.plot(x_grid, vmap(f_prime)(x_grid), label=\"$f'$\")\n",
    "ax.legend()\n",
    "plt.show()"
   ]
  },
  {
   "cell_type": "markdown",
   "id": "b8bae902",
   "metadata": {},
   "source": [
    "### Differentiating through a linear interpolation\n",
    "\n",
    "We can differentiate through linear interpolation, even though the function is not smooth:"
   ]
  },
  {
   "cell_type": "code",
   "execution_count": null,
   "id": "3917df19",
   "metadata": {
    "hide-output": false
   },
   "outputs": [],
   "source": [
    "n = 20\n",
    "xp = jnp.linspace(-5, 5, n)\n",
    "yp = jnp.cos(2 * xp)\n",
    "\n",
    "fig, ax = plt.subplots()\n",
    "ax.plot(x_grid, jnp.interp(x_grid, xp, yp))\n",
    "plt.show()"
   ]
  },
  {
   "cell_type": "code",
   "execution_count": null,
   "id": "6c176719",
   "metadata": {
    "hide-output": false
   },
   "outputs": [],
   "source": [
    "f_prime = jax.grad(jnp.interp)"
   ]
  },
  {
   "cell_type": "code",
   "execution_count": null,
   "id": "23ab95cf",
   "metadata": {
    "hide-output": false
   },
   "outputs": [],
   "source": [
    "f_prime_vec = jax.vmap(f_prime, in_axes=(0, None, None))"
   ]
  },
  {
   "cell_type": "code",
   "execution_count": null,
   "id": "9872784b",
   "metadata": {
    "hide-output": false
   },
   "outputs": [],
   "source": [
    "fig, ax = plt.subplots()\n",
    "ax.plot(x_grid, f_prime_vec(x_grid, xp, yp))\n",
    "plt.show()"
   ]
  },
  {
   "cell_type": "markdown",
   "id": "5337cd0c",
   "metadata": {},
   "source": [
    "## Gradient Descent\n",
    "\n",
    "Let’s try implementing gradient descent.\n",
    "\n",
    "As a simple application, we’ll use gradient descent to solve for the OLS parameter estimates in simple linear regression."
   ]
  },
  {
   "cell_type": "markdown",
   "id": "3dfcf21d",
   "metadata": {},
   "source": [
    "### A function for gradient descent\n",
    "\n",
    "Here’s an implementation of gradient descent."
   ]
  },
  {
   "cell_type": "code",
   "execution_count": null,
   "id": "82206611",
   "metadata": {
    "hide-output": false
   },
   "outputs": [],
   "source": [
    "def grad_descent(f,       # Function to be minimized\n",
    "                 args,    # Extra arguments to the function\n",
    "                 x0,      # Initial condition\n",
    "                 λ=0.1,   # Initial learning rate\n",
    "                 tol=1e-5, \n",
    "                 max_iter=1_000):\n",
    "    \"\"\"\n",
    "    Minimize the function f via gradient descent, starting from guess x0.\n",
    "\n",
    "    The learning rate is computed according to the Barzilai-Borwein method.\n",
    "    \n",
    "    \"\"\"\n",
    "    \n",
    "    f_grad = grad(f)\n",
    "    x = jnp.array(x0)\n",
    "    df = f_grad(x, args)\n",
    "    ϵ = tol + 1\n",
    "    i = 0\n",
    "    while ϵ > tol and i < max_iter:\n",
    "        new_x = x - λ * df\n",
    "        new_df = f_grad(new_x, args)\n",
    "        Δx = new_x - x\n",
    "        Δdf = new_df - df\n",
    "        λ = jnp.abs(Δx @ Δdf) / (Δdf @ Δdf)\n",
    "        ϵ = jnp.max(jnp.abs(Δx))\n",
    "        x, df = new_x, new_df\n",
    "        i += 1\n",
    "        \n",
    "    return x"
   ]
  },
  {
   "cell_type": "markdown",
   "id": "1de8f80a",
   "metadata": {},
   "source": [
    "### Simulated data\n",
    "\n",
    "We’re going to test our gradient descent function my minimizing a sum of least squares in a regression problem.\n",
    "\n",
    "Let’s generate some simulated data:"
   ]
  },
  {
   "cell_type": "code",
   "execution_count": null,
   "id": "72771b23",
   "metadata": {
    "hide-output": false
   },
   "outputs": [],
   "source": [
    "n = 100\n",
    "key = jax.random.PRNGKey(1234)\n",
    "x = jax.random.uniform(key, (n,))\n",
    "\n",
    "α, β, σ = 0.5, 1.0, 0.1  # Set the true intercept and slope.\n",
    "key, subkey = jax.random.split(key)\n",
    "ϵ = jax.random.normal(subkey, (n,))\n",
    "\n",
    "y = α * x + β + σ * ϵ"
   ]
  },
  {
   "cell_type": "code",
   "execution_count": null,
   "id": "57719d28",
   "metadata": {
    "hide-output": false
   },
   "outputs": [],
   "source": [
    "fig, ax = plt.subplots()\n",
    "ax.scatter(x, y)\n",
    "plt.show()"
   ]
  },
  {
   "cell_type": "markdown",
   "id": "ef99f98b",
   "metadata": {},
   "source": [
    "Let’s start by calculating the estimated slope and intercept using closed form solutions."
   ]
  },
  {
   "cell_type": "code",
   "execution_count": null,
   "id": "667a8617",
   "metadata": {
    "hide-output": false
   },
   "outputs": [],
   "source": [
    "mx = x.mean()\n",
    "my = y.mean()\n",
    "α_hat = jnp.sum((x - mx) * (y - my)) / jnp.sum((x - mx)**2)\n",
    "β_hat = my - α_hat * mx"
   ]
  },
  {
   "cell_type": "code",
   "execution_count": null,
   "id": "eba7ff76",
   "metadata": {
    "hide-output": false
   },
   "outputs": [],
   "source": [
    "α_hat, β_hat"
   ]
  },
  {
   "cell_type": "code",
   "execution_count": null,
   "id": "cab317e6",
   "metadata": {
    "hide-output": false
   },
   "outputs": [],
   "source": [
    "fig, ax = plt.subplots()\n",
    "ax.scatter(x, y)\n",
    "ax.plot(x, α_hat * x + β_hat, 'k-')\n",
    "ax.text(0.1, 1.55, rf'$\\hat \\alpha = {α_hat:.3}$')\n",
    "ax.text(0.1, 1.50, rf'$\\hat \\beta = {β_hat:.3}$')\n",
    "plt.show()"
   ]
  },
  {
   "cell_type": "markdown",
   "id": "16b5de66",
   "metadata": {},
   "source": [
    "### Minimizing squared loss by gradient descent\n",
    "\n",
    "Let’s see if we can get the same values with our gradient descent function.\n",
    "\n",
    "First we set up the least squares loss function."
   ]
  },
  {
   "cell_type": "code",
   "execution_count": null,
   "id": "34aa368a",
   "metadata": {
    "hide-output": false
   },
   "outputs": [],
   "source": [
    "@jax.jit\n",
    "def loss(params, data):\n",
    "    a, b = params\n",
    "    x, y = data\n",
    "    return jnp.sum((y - a * x - b)**2)"
   ]
  },
  {
   "cell_type": "markdown",
   "id": "e914362d",
   "metadata": {},
   "source": [
    "Now we minimize it:"
   ]
  },
  {
   "cell_type": "code",
   "execution_count": null,
   "id": "5c8b65c1",
   "metadata": {
    "hide-output": false
   },
   "outputs": [],
   "source": [
    "p0 = jnp.zeros(2)  # Initial guess for α, β\n",
    "data = x, y\n",
    "α_hat, β_hat = grad_descent(loss, data, p0)"
   ]
  },
  {
   "cell_type": "markdown",
   "id": "bbafe8c8",
   "metadata": {},
   "source": [
    "Let’s plot the results."
   ]
  },
  {
   "cell_type": "code",
   "execution_count": null,
   "id": "d1f8b8dd",
   "metadata": {
    "hide-output": false
   },
   "outputs": [],
   "source": [
    "fig, ax = plt.subplots()\n",
    "x_grid = jnp.linspace(0, 1, 100)\n",
    "ax.scatter(x, y)\n",
    "ax.plot(x_grid, α_hat * x_grid + β_hat, 'k-', alpha=0.6)\n",
    "ax.text(0.1, 1.55, rf'$\\hat \\alpha = {α_hat:.3}$')\n",
    "ax.text(0.1, 1.50, rf'$\\hat \\beta = {β_hat:.3}$')\n",
    "plt.show()"
   ]
  },
  {
   "cell_type": "markdown",
   "id": "a5d75e74",
   "metadata": {},
   "source": [
    "Notice that we get the same estimates as we did from the closed form solutions."
   ]
  },
  {
   "cell_type": "markdown",
   "id": "4a1104b8",
   "metadata": {},
   "source": [
    "### Adding a squared term\n",
    "\n",
    "Now let’s try fitting a second order polynomial.\n",
    "\n",
    "Here’s our new loss function."
   ]
  },
  {
   "cell_type": "code",
   "execution_count": null,
   "id": "020b401a",
   "metadata": {
    "hide-output": false
   },
   "outputs": [],
   "source": [
    "@jax.jit\n",
    "def loss(params, data):\n",
    "    a, b, c = params\n",
    "    x, y = data\n",
    "    return jnp.sum((y - a * x**2 - b * x - c)**2)"
   ]
  },
  {
   "cell_type": "markdown",
   "id": "7d7ef34f",
   "metadata": {},
   "source": [
    "Now we’re minimizing in three dimensions.\n",
    "\n",
    "Let’s try it."
   ]
  },
  {
   "cell_type": "code",
   "execution_count": null,
   "id": "fa447b64",
   "metadata": {
    "hide-output": false
   },
   "outputs": [],
   "source": [
    "p0 = jnp.zeros(3)\n",
    "α_hat, β_hat, γ_hat = grad_descent(loss, data, p0)\n",
    "\n",
    "fig, ax = plt.subplots()\n",
    "ax.scatter(x, y)\n",
    "ax.plot(x_grid, α_hat * x_grid**2 + β_hat * x_grid + γ_hat, 'k-', alpha=0.6)\n",
    "ax.text(0.1, 1.58, rf'$\\hat \\alpha = {α_hat:.3}$')\n",
    "ax.text(0.1, 1.50, rf'$\\hat \\beta = {β_hat:.3}$')\n",
    "ax.text(0.1, 1.42, rf'$\\hat \\gamma = {γ_hat:.3}$')\n",
    "\n",
    "plt.show()"
   ]
  },
  {
   "cell_type": "markdown",
   "id": "d618c01f",
   "metadata": {},
   "source": [
    "## Exercises"
   ]
  },
  {
   "cell_type": "markdown",
   "id": "43ad20d6",
   "metadata": {},
   "source": [
    "## Exercise 3.1\n",
    "\n",
    "The function `jnp.polyval` evaluates polynomials.\n",
    "\n",
    "For example, if `len(p)` is 3, then `jnp.polyval(p, x)`  returns\n",
    "\n",
    "$$\n",
    "f(p, x) := p_0 x^2 + p_1 x + p_2\n",
    "$$\n",
    "\n",
    "Use this function for polynomial regression.\n",
    "\n",
    "The (empirical) loss becomes\n",
    "\n",
    "$$\n",
    "\\ell(p, x, y) \n",
    "    = \\sum_{i=1}^n (y_i - f(p, x_i))^2\n",
    "$$\n",
    "\n",
    "Set $ k=4 $ and set the initial guess of `params` to `jnp.zeros(k)`.\n",
    "\n",
    "Use gradient descent to find the array `params` that minimizes the loss\n",
    "function and plot the result (following the examples above)."
   ]
  },
  {
   "cell_type": "markdown",
   "id": "4a03cd3d",
   "metadata": {},
   "source": [
    "## Solution to[ Exercise 3.1](https://jax.quantecon.org/#auto_ex1)\n",
    "\n",
    "Here’s one solution."
   ]
  },
  {
   "cell_type": "code",
   "execution_count": null,
   "id": "2709018b",
   "metadata": {
    "hide-output": false
   },
   "outputs": [],
   "source": [
    "def loss(params, data):\n",
    "    x, y = data\n",
    "    return jnp.sum((y - jnp.polyval(params, x))**2)"
   ]
  },
  {
   "cell_type": "code",
   "execution_count": null,
   "id": "09625193",
   "metadata": {
    "hide-output": false
   },
   "outputs": [],
   "source": [
    "k = 4\n",
    "p0 = jnp.zeros(k)\n",
    "p_hat = grad_descent(loss, data, p0)\n",
    "print('Estimated parameter vector:')\n",
    "print(p_hat)\n",
    "print('\\n\\n')\n",
    "\n",
    "fig, ax = plt.subplots()\n",
    "ax.scatter(x, y)\n",
    "ax.plot(x_grid, jnp.polyval(p_hat, x_grid), 'k-', alpha=0.6)\n",
    "plt.show()"
   ]
  },
  {
   "cell_type": "code",
   "execution_count": null,
   "id": "219447c9",
   "metadata": {},
   "outputs": [],
   "source": []
  },
  {
   "cell_type": "code",
   "execution_count": null,
   "id": "c9b97c91",
   "metadata": {},
   "outputs": [],
   "source": []
  }
 ],
 "metadata": {
  "jupytext": {
   "default_lexer": "ipython3"
  },
  "kernelspec": {
   "display_name": "Python 3 (ipykernel)",
   "language": "python",
   "name": "python3"
  }
 },
 "nbformat": 4,
 "nbformat_minor": 5
}
