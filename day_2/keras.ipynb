{
 "cells": [
  {
   "cell_type": "markdown",
   "id": "cee34428",
   "metadata": {},
   "source": [
    "# Simple Neural Network Regression with Keras and JAX\n",
    "\n",
    "*Prepared for the Computational Economics Workshop at Hitotsubashi*\n",
    "\n",
    "Author: [John Stachurski](https://johnstachurski.net)"
   ]
  },
  {
   "cell_type": "markdown",
   "id": "83b014ad",
   "metadata": {},
   "source": [
    "## Introduction\n",
    "\n",
    "\n",
    "In this lecture we show how to implement one-dimensional nonlinear regression\n",
    "using a multilayer perceptron (i.e., neural network).\n",
    "\n",
    "We will use the popular deep learning library [Keras](https://keras.io/), which\n",
    "provides a simple interface to deep learning.\n",
    "\n",
    "The emphasis in Keras is on providing an intuitive API, while the heavy lifting is\n",
    "done by one of several possible backends.\n",
    "\n",
    "Currently the backend library options are Tensorflow, PyTorch, and JAX.\n",
    "\n",
    "In this lecture we will set the backend to JAX.\n",
    "\n",
    "Our main aim is to provide a very simple introduction to deep\n",
    "learning in a regression setting.\n",
    "\n",
    "Later, in [a separate lecture](https://jax.quantecon.org/jax_nn.html), we will investigate how to do the same learning task using pure JAX, rather than relying on Keras."
   ]
  },
  {
   "cell_type": "markdown",
   "id": "71c0c017",
   "metadata": {},
   "source": [
    "If you run this lecture on [Google Colab](https://colab.research.google.com/), set the runtime environment to include a GPU.\n",
    "\n",
    "To run this lecture on your own machine, you need to install [Google JAX](https://github.com/google/jax).\n",
    "\n",
    "* Obviously, if you install the CPU-only version of JAX, you will not get the benefit of a hardware accelerator and this will affect your timings."
   ]
  },
  {
   "cell_type": "markdown",
   "id": "38e159ff",
   "metadata": {},
   "source": [
    "If necessary, please install Keras by uncommenting the next line."
   ]
  },
  {
   "cell_type": "code",
   "execution_count": null,
   "id": "f7a6a7f5",
   "metadata": {
    "hide-output": false
   },
   "outputs": [],
   "source": [
    "#!pip install --upgrade keras"
   ]
  },
  {
   "cell_type": "markdown",
   "id": "deff6b02",
   "metadata": {},
   "source": [
    "Now we specify that the desired backend is JAX."
   ]
  },
  {
   "cell_type": "code",
   "execution_count": null,
   "id": "1b52f3c2",
   "metadata": {
    "hide-output": false
   },
   "outputs": [],
   "source": [
    "import os\n",
    "os.environ['KERAS_BACKEND'] = 'jax'"
   ]
  },
  {
   "cell_type": "markdown",
   "id": "604ff99b",
   "metadata": {},
   "source": [
    "Now we should be able to import some tools from Keras.\n",
    "\n",
    "(Without setting the backend to JAX, the imports below might fail – unless you have PyTorch or Tensorflow set up.  If you have problems running the next cell in Jupyter, try quitting, running `export KERAS_BACKEND=\"jax\"` and then starting Jupyter on the command line from the same terminal.)"
   ]
  },
  {
   "cell_type": "code",
   "execution_count": null,
   "id": "5c45988c",
   "metadata": {
    "hide-output": false
   },
   "outputs": [],
   "source": [
    "import keras"
   ]
  },
  {
   "cell_type": "code",
   "execution_count": null,
   "id": "6de07a64",
   "metadata": {
    "hide-output": false
   },
   "outputs": [],
   "source": [
    "from keras import Sequential\n",
    "from keras.layers import Dense"
   ]
  },
  {
   "cell_type": "markdown",
   "id": "ad25bc6e",
   "metadata": {},
   "source": [
    "We'll also use the following imports."
   ]
  },
  {
   "cell_type": "code",
   "execution_count": null,
   "id": "bdde147c",
   "metadata": {
    "hide-output": false
   },
   "outputs": [],
   "source": [
    "import numpy as np\n",
    "import matplotlib.pyplot as plt"
   ]
  },
  {
   "cell_type": "markdown",
   "id": "2db239d8",
   "metadata": {},
   "source": [
    "## Data\n",
    "\n",
    "First let’s write a function to generate some data.\n",
    "\n",
    "The data has the form\n",
    "\n",
    "$$\n",
    "y_i = f(x_i) + \\epsilon_i,\n",
    "    \\qquad i=1, \\ldots, n,\n",
    "$$\n",
    "\n",
    "where\n",
    "\n",
    "- the input sequence $ (x_i) $ is an evenly-spaced grid,  \n",
    "- $ f $ is a nonlinear transformation, and  \n",
    "- each $ \\epsilon_i $ is independent white noise.  \n",
    "\n",
    "\n",
    "Here’s the function that creates vectors `x` and `y` according to the rule\n",
    "above."
   ]
  },
  {
   "cell_type": "code",
   "execution_count": null,
   "id": "598723a9",
   "metadata": {
    "hide-output": false
   },
   "outputs": [],
   "source": [
    "def generate_data(x_min=0,           # Minimum x value\n",
    "                  x_max=5,           # Max x value\n",
    "                  data_size=400,     # Default size for dataset\n",
    "                  seed=1234):\n",
    "    np.random.seed(seed)\n",
    "    x = np.linspace(x_min, x_max, num=data_size)\n",
    "    \n",
    "    ϵ = 0.2 * np.random.randn(data_size)\n",
    "    y = x**0.5 + np.sin(x) + ϵ\n",
    "    # Keras expects two dimensions, not flat arrays\n",
    "    x, y = [np.reshape(z, (data_size, 1)) for z in (x, y)]\n",
    "    return x, y"
   ]
  },
  {
   "cell_type": "markdown",
   "id": "78750f36",
   "metadata": {},
   "source": [
    "Now we generate some data to train the model."
   ]
  },
  {
   "cell_type": "code",
   "execution_count": null,
   "id": "f224a24a",
   "metadata": {
    "hide-output": false
   },
   "outputs": [],
   "source": [
    "x, y = generate_data()"
   ]
  },
  {
   "cell_type": "markdown",
   "id": "a25fc1b2",
   "metadata": {},
   "source": [
    "Here’s a plot of the training data."
   ]
  },
  {
   "cell_type": "code",
   "execution_count": null,
   "id": "c4a8b85c",
   "metadata": {
    "hide-output": false
   },
   "outputs": [],
   "source": [
    "fig, ax = plt.subplots()\n",
    "ax.scatter(x, y)\n",
    "ax.set_xlabel('x')\n",
    "ax.set_ylabel('y')\n",
    "plt.show()"
   ]
  },
  {
   "cell_type": "markdown",
   "id": "5d534261",
   "metadata": {},
   "source": [
    "We’ll also use data from the same process for cross-validation."
   ]
  },
  {
   "cell_type": "code",
   "execution_count": null,
   "id": "cea52cea",
   "metadata": {
    "hide-output": false
   },
   "outputs": [],
   "source": [
    "x_validate, y_validate = generate_data()"
   ]
  },
  {
   "cell_type": "markdown",
   "id": "252942c5",
   "metadata": {},
   "source": [
    "## Models\n",
    "\n",
    "We supply functions to build two types of models."
   ]
  },
  {
   "cell_type": "markdown",
   "id": "cb2485df",
   "metadata": {},
   "source": [
    "## Regression model\n",
    "\n",
    "The first implements linear regression.\n",
    "\n",
    "This is achieved by constructing a neural network with just one layer, that maps\n",
    "to a single dimension (since the prediction is real-valued).\n",
    "\n",
    "The object `model` will be an instance of `keras.Sequential`, which is used to\n",
    "group a stack of layers into a single prediction model."
   ]
  },
  {
   "cell_type": "code",
   "execution_count": null,
   "id": "2cd2e193",
   "metadata": {
    "hide-output": false
   },
   "outputs": [],
   "source": [
    "def build_regression_model():\n",
    "    # Generate an instance of Sequential, to store layers and training attributes\n",
    "    model = Sequential()\n",
    "    # Add a single layer with scalar output\n",
    "    model.add(Dense(units=1))  \n",
    "    # Configure the model for training\n",
    "    model.compile(optimizer=keras.optimizers.SGD(), \n",
    "                  loss='mean_squared_error')\n",
    "    return model"
   ]
  },
  {
   "cell_type": "markdown",
   "id": "1b3c6332",
   "metadata": {},
   "source": [
    "In the function above you can see that\n",
    "\n",
    "- we use stochastic gradient descent to train the model, and  \n",
    "- the loss is mean squared error (MSE).  \n",
    "\n",
    "\n",
    "The call `model.add` adds a single layer the activation function equal to the identity map.\n",
    "\n",
    "MSE is the standard loss function for ordinary least squares regression."
   ]
  },
  {
   "cell_type": "markdown",
   "id": "a881ed11",
   "metadata": {},
   "source": [
    "### Deep Network\n",
    "\n",
    "The next function creates a dense (i.e., fully connected) neural network with\n",
    "3 hidden layers, where each hidden layer maps to a k-dimensional output space."
   ]
  },
  {
   "cell_type": "code",
   "execution_count": null,
   "id": "b893a6bd",
   "metadata": {
    "hide-output": false
   },
   "outputs": [],
   "source": [
    "def build_nn_model(output_dim=10, num_layers=3, activation_function='tanh'):\n",
    "    # Create a Keras Model instance using Sequential()\n",
    "    model = Sequential()\n",
    "    # Add layers to the network sequentially, from inputs towards outputs\n",
    "    for i in range(num_layers):\n",
    "        model.add(Dense(units=output_dim, activation=activation_function))\n",
    "    # Add a final layer that maps to a scalar value, for regression.\n",
    "    model.add(Dense(units=1))\n",
    "    # Embed training configurations\n",
    "    model.compile(optimizer=keras.optimizers.SGD(), \n",
    "                  loss='mean_squared_error')\n",
    "    return model"
   ]
  },
  {
   "cell_type": "markdown",
   "id": "fe4a409a",
   "metadata": {},
   "source": [
    "### Tracking errors\n",
    "\n",
    "The following function will be used to plot the MSE of the model during the\n",
    "training process.\n",
    "\n",
    "Initially the MSE will be relatively high, but it should fall at each iteration,\n",
    "as the parameters are adjusted to better fit the data."
   ]
  },
  {
   "cell_type": "code",
   "execution_count": null,
   "id": "3f460c8e",
   "metadata": {
    "hide-output": false
   },
   "outputs": [],
   "source": [
    "def plot_loss_history(training_history, ax):\n",
    "    \"\"\"\n",
    "    Plot the MSE of the training data as a function of the epochs.  \n",
    "    Each epoch corresponds to one pass through the data set and update of\n",
    "    the parameters.\n",
    "\n",
    "    This function acts on the training history returned by a call to the\n",
    "    `fit` method of a given model.\n",
    "    \"\"\"\n",
    "    epochs = training_history.epoch\n",
    "    ax.plot(epochs, \n",
    "            np.array(training_history.history['loss']), \n",
    "            label='training loss')\n",
    "    # Plot MSE of validation data against epoch\n",
    "    ax.plot(epochs, \n",
    "            np.array(training_history.history['val_loss']),\n",
    "            label='validation loss')\n",
    "    # Add labels\n",
    "    ax.set_xlabel('Epoch')\n",
    "    ax.set_ylabel('Loss (Mean squared error)')\n",
    "    ax.legend()"
   ]
  },
  {
   "cell_type": "markdown",
   "id": "ba7102ba",
   "metadata": {},
   "source": [
    "## Training\n",
    "\n",
    "Now let’s go ahead and train our  models."
   ]
  },
  {
   "cell_type": "markdown",
   "id": "255c4755",
   "metadata": {},
   "source": [
    "### Linear regression\n",
    "\n",
    "We’ll start with linear regression."
   ]
  },
  {
   "cell_type": "code",
   "execution_count": null,
   "id": "8710afa2",
   "metadata": {
    "hide-output": false
   },
   "outputs": [],
   "source": [
    "regression_model = build_regression_model()"
   ]
  },
  {
   "cell_type": "markdown",
   "id": "715ef964",
   "metadata": {},
   "source": [
    "Now we train the model using the training data."
   ]
  },
  {
   "cell_type": "code",
   "execution_count": null,
   "id": "25e459dd",
   "metadata": {
    "hide-output": false
   },
   "outputs": [],
   "source": [
    "training_history = regression_model.fit(\n",
    "    x, y, batch_size=x.shape[0], verbose=0,\n",
    "    epochs=2000, validation_data=(x_validate, y_validate))"
   ]
  },
  {
   "cell_type": "markdown",
   "id": "a4515594",
   "metadata": {},
   "source": [
    "Let’s have a look at the evolution of MSE as the model is trained."
   ]
  },
  {
   "cell_type": "code",
   "execution_count": null,
   "id": "4d818395",
   "metadata": {
    "hide-output": false
   },
   "outputs": [],
   "source": [
    "fig, ax = plt.subplots()\n",
    "plot_loss_history(training_history, ax)\n",
    "plt.show()"
   ]
  },
  {
   "cell_type": "markdown",
   "id": "5a5d5855",
   "metadata": {},
   "source": [
    "Let’s print the final MSE on the cross-validation data."
   ]
  },
  {
   "cell_type": "code",
   "execution_count": null,
   "id": "52471e89",
   "metadata": {
    "hide-output": false
   },
   "outputs": [],
   "source": [
    "print(\"Testing loss on the validation set.\")\n",
    "regression_model.evaluate(x_validate, y_validate, verbose=2)"
   ]
  },
  {
   "cell_type": "markdown",
   "id": "e091390f",
   "metadata": {},
   "source": [
    "Here’s our output predictions on the cross-validation data."
   ]
  },
  {
   "cell_type": "code",
   "execution_count": null,
   "id": "799081d7",
   "metadata": {
    "hide-output": false
   },
   "outputs": [],
   "source": [
    "y_predict = regression_model.predict(x_validate, verbose=2)"
   ]
  },
  {
   "cell_type": "markdown",
   "id": "f3e40386",
   "metadata": {},
   "source": [
    "We use the following function to plot our predictions along with the data."
   ]
  },
  {
   "cell_type": "code",
   "execution_count": null,
   "id": "73ff1354",
   "metadata": {
    "hide-output": false
   },
   "outputs": [],
   "source": [
    "def plot_results(x, y, y_predict, ax):\n",
    "    ax.scatter(x, y)\n",
    "    ax.plot(x, y_predict, label=\"fitted model\", color='black')\n",
    "    ax.set_xlabel('x')\n",
    "    ax.set_ylabel('y')"
   ]
  },
  {
   "cell_type": "markdown",
   "id": "c8e87f65",
   "metadata": {},
   "source": [
    "Let’s now call the function on the cross-validation data."
   ]
  },
  {
   "cell_type": "code",
   "execution_count": null,
   "id": "5a10d246",
   "metadata": {
    "hide-output": false
   },
   "outputs": [],
   "source": [
    "fig, ax = plt.subplots()\n",
    "plot_results(x_validate, y_validate, y_predict, ax)\n",
    "plt.show()"
   ]
  },
  {
   "cell_type": "markdown",
   "id": "876fb2ab",
   "metadata": {},
   "source": [
    "### Deep learning\n",
    "\n",
    "Now let’s switch to a neural network with multiple layers.\n",
    "\n",
    "We implement the same steps as before."
   ]
  },
  {
   "cell_type": "code",
   "execution_count": null,
   "id": "f936bc38",
   "metadata": {
    "hide-output": false
   },
   "outputs": [],
   "source": [
    "nn_model = build_nn_model()"
   ]
  },
  {
   "cell_type": "code",
   "execution_count": null,
   "id": "9cb6c622",
   "metadata": {
    "hide-output": false
   },
   "outputs": [],
   "source": [
    "training_history = nn_model.fit(\n",
    "    x, y, batch_size=x.shape[0], verbose=0,\n",
    "    epochs=2000, validation_data=(x_validate, y_validate))"
   ]
  },
  {
   "cell_type": "code",
   "execution_count": null,
   "id": "ce120e4d",
   "metadata": {
    "hide-output": false
   },
   "outputs": [],
   "source": [
    "fig, ax = plt.subplots()\n",
    "plot_loss_history(training_history, ax)\n",
    "plt.show()"
   ]
  },
  {
   "cell_type": "markdown",
   "id": "3b1efac1",
   "metadata": {},
   "source": [
    "Here’s the final MSE for the deep learning model."
   ]
  },
  {
   "cell_type": "code",
   "execution_count": null,
   "id": "3a22092f",
   "metadata": {
    "hide-output": false
   },
   "outputs": [],
   "source": [
    "print(\"Testing loss on the validation set.\")\n",
    "nn_model.evaluate(x_validate, y_validate, verbose=2)"
   ]
  },
  {
   "cell_type": "markdown",
   "id": "fb233edd",
   "metadata": {},
   "source": [
    "You will notice that this loss is much lower than the one we achieved with\n",
    "linear regression, suggesting a better fit.\n",
    "\n",
    "To confirm this, let’s look at the fitted function."
   ]
  },
  {
   "cell_type": "code",
   "execution_count": null,
   "id": "fdf490c1",
   "metadata": {
    "hide-output": false
   },
   "outputs": [],
   "source": [
    "y_predict = nn_model.predict(x_validate, verbose=2)"
   ]
  },
  {
   "cell_type": "code",
   "execution_count": null,
   "id": "dc7e99b2",
   "metadata": {
    "hide-output": false
   },
   "outputs": [],
   "source": [
    "def plot_results(x, y, y_predict, ax):\n",
    "    ax.scatter(x, y)\n",
    "    ax.plot(x, y_predict, label=\"fitted model\", color='black')\n",
    "    ax.set_xlabel('x')\n",
    "    ax.set_ylabel('y')"
   ]
  },
  {
   "cell_type": "code",
   "execution_count": null,
   "id": "cdc367c9",
   "metadata": {
    "hide-output": false
   },
   "outputs": [],
   "source": [
    "fig, ax = plt.subplots()\n",
    "plot_results(x_validate, y_validate, y_predict, ax)\n",
    "plt.show()"
   ]
  },
  {
   "cell_type": "markdown",
   "id": "8c28e49e",
   "metadata": {},
   "source": [
    "Not surprisingly, the multilayer neural network does a much better job of fitting the data.\n",
    "\n",
    "In a [a follow-up lecture](https://jax.quantecon.org/jax_nn.html), we will try to achieve the same fit using pure JAX, rather than relying on the Keras front-end."
   ]
  }
 ],
 "metadata": {
  "jupytext": {
   "default_lexer": "ipython3"
  },
  "kernelspec": {
   "display_name": "Python 3 (ipykernel)",
   "language": "python",
   "name": "python3"
  }
 },
 "nbformat": 4,
 "nbformat_minor": 5
}
